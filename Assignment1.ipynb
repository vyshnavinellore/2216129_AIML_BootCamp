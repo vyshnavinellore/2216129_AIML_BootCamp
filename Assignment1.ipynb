{
  "nbformat": 4,
  "nbformat_minor": 0,
  "metadata": {
    "colab": {
      "name": "Assignment1.ipynb",
      "provenance": [],
      "authorship_tag": "ABX9TyNEEcYmLYwLAg+jNSRSEn6C",
      "include_colab_link": true
    },
    "kernelspec": {
      "name": "python3",
      "display_name": "Python 3"
    },
    "language_info": {
      "name": "python"
    }
  },
  "cells": [
    {
      "cell_type": "markdown",
      "metadata": {
        "id": "view-in-github",
        "colab_type": "text"
      },
      "source": [
        "<a href=\"https://colab.research.google.com/github/vyshnavinellore/2216129_AIML_BootCamp/blob/main/Assignment1.ipynb\" target=\"_parent\"><img src=\"https://colab.research.google.com/assets/colab-badge.svg\" alt=\"Open In Colab\"/></a>"
      ]
    },
    {
      "cell_type": "markdown",
      "source": [
        "1.IMPLEMENT THE METHODS OF STRING WITH EXAMPLES\n",
        "\n",
        "\n"
      ],
      "metadata": {
        "id": "N1o42eTMj9wG"
      }
    },
    {
      "cell_type": "code",
      "execution_count": 9,
      "metadata": {
        "id": "zcifsmt09cN-",
        "outputId": "48a4b64c-06e3-46e0-b654-e06ac70effe6",
        "colab": {
          "base_uri": "https://localhost:8080/"
        }
      },
      "outputs": [
        {
          "output_type": "stream",
          "name": "stdout",
          "text": [
            "HE DRIVES TO WORK\n",
            "he drives to work\n",
            "HE DRIVES TO WORK\n",
            "He Drives To Work\n",
            "He drives to work\n",
            "dogcat\n",
            "dogdog\n"
          ]
        }
      ],
      "source": [
        "#string methods\n",
        "str=\"he drives to work\"\n",
        "print(str.upper())\n",
        "print(str.lower())\n",
        "print(str.swapcase())\n",
        "print(str.title())\n",
        "print(str.capitalize())\n",
        "str1=\"dog\"\n",
        "str2=\"cat\"\n",
        "str3=str1+str2\n",
        "print(str3)\n",
        "str4=str1*2\n",
        "print(str4)"
      ]
    },
    {
      "cell_type": "markdown",
      "source": [
        "2.Implement the methods of List with examples"
      ],
      "metadata": {
        "id": "0e0EQuG2dJ0t"
      }
    },
    {
      "cell_type": "code",
      "source": [
        "list=[3,17,9]\n",
        "list.append(4)\n",
        "print(list)\n",
        "list.extend([23,2,6])\n",
        "print(list)\n",
        "list.insert(1,3)\n",
        "print(list)\n",
        "del list[4]\n",
        "print(list)\n",
        "del list[0:3]\n",
        "print(list)\n",
        "list.remove(9)\n",
        "print(list)\n",
        "list.pop()\n",
        "print(list)\n",
        "list.clear()\n",
        "print(\"list elements:\",list)\n",
        "li1=[1,9,9.5,7,8,4]\n",
        "print(li1.count(1))\n",
        "print(len(li1))\n",
        "print(li1[::-1])\n",
        "li1.reverse()\n",
        "print(li1)\n",
        "li1.sort()\n",
        "print(li1)\n"
      ],
      "metadata": {
        "id": "_72_uZDPcKq_",
        "outputId": "c092185b-7112-4862-b54a-248f9a08824b",
        "colab": {
          "base_uri": "https://localhost:8080/"
        }
      },
      "execution_count": 12,
      "outputs": [
        {
          "output_type": "stream",
          "name": "stdout",
          "text": [
            "[3, 17, 9, 4]\n",
            "[3, 17, 9, 4, 23, 2, 6]\n",
            "[3, 3, 17, 9, 4, 23, 2, 6]\n",
            "[3, 3, 17, 9, 23, 2, 6]\n",
            "[9, 23, 2, 6]\n",
            "[23, 2, 6]\n",
            "[23, 2]\n",
            "list elements: []\n",
            "1\n",
            "6\n",
            "[4, 8, 7, 9.5, 9, 1]\n",
            "[4, 8, 7, 9.5, 9, 1]\n",
            "[1, 4, 7, 8, 9, 9.5]\n"
          ]
        }
      ]
    },
    {
      "cell_type": "markdown",
      "source": [
        "3.Implement the methods of Tuple with examples"
      ],
      "metadata": {
        "id": "vrpjLphKd9pN"
      }
    },
    {
      "cell_type": "code",
      "source": [
        "tu=(1,64,21,9,13)\n",
        "print(tu.count(1))\n",
        "print(tu.index(9))\n",
        "print(max(tu))\n",
        "print(min(tu))\n",
        "print(len(tu))"
      ],
      "metadata": {
        "id": "yHGqtJTHd__t",
        "outputId": "9282dac1-d318-40d8-87ca-f5ed266fee73",
        "colab": {
          "base_uri": "https://localhost:8080/"
        }
      },
      "execution_count": 13,
      "outputs": [
        {
          "output_type": "stream",
          "name": "stdout",
          "text": [
            "1\n",
            "3\n",
            "64\n",
            "1\n",
            "5\n"
          ]
        }
      ]
    },
    {
      "cell_type": "markdown",
      "source": [
        "4.Implement the methods of Dictionary with examples"
      ],
      "metadata": {
        "id": "b5YRTsrDfBBm"
      }
    },
    {
      "cell_type": "code",
      "source": [
        "d={1:'cat',27:'peacock',99:'mango'}\n",
        "print(type(d))\n",
        "print(len(d))\n",
        "print(d.keys())\n",
        "print(d.values())\n",
        "print(d[27])\n",
        "d[1]='lion'\n",
        "print(d)\n",
        "d['name']='sahastra'\n",
        "d1={7:'chocolate',4:'milk'}\n",
        "print(d1.items())\n",
        "print(d1.get(7))\n",
        "d2=d1.copy()\n",
        "print(d2)\n",
        "d1.pop(4)\n",
        "print(d1)"
      ],
      "metadata": {
        "id": "BoZ_FSaDfH43"
      },
      "execution_count": null,
      "outputs": []
    },
    {
      "cell_type": "markdown",
      "source": [
        "5.Implement the methods of Set with examples."
      ],
      "metadata": {
        "id": "eT_EscmIfQ5V"
      }
    },
    {
      "cell_type": "code",
      "source": [
        "set={6,2,9}\n",
        "set={\"welcome\",\"great\",(7,3)}\n",
        "set.add(2)\n",
        "print(set)\n",
        "set.update([1,5,4])\n",
        "print(set)\n",
        "set.discard(2)\n",
        "print(set)\n",
        "set.remove(1)\n",
        "print(set)"
      ],
      "metadata": {
        "id": "i78RgIlyfXo1",
        "outputId": "1787e6c5-103d-4787-8b07-768d2534da56",
        "colab": {
          "base_uri": "https://localhost:8080/"
        }
      },
      "execution_count": 14,
      "outputs": [
        {
          "output_type": "stream",
          "name": "stdout",
          "text": [
            "{(7, 3), 2, 'great', 'welcome'}\n",
            "{(7, 3), 2, 1, 4, 'welcome', 5, 'great'}\n",
            "{(7, 3), 1, 4, 'welcome', 5, 'great'}\n",
            "{(7, 3), 4, 'welcome', 5, 'great'}\n"
          ]
        }
      ]
    },
    {
      "cell_type": "markdown",
      "source": [
        "6.Write a python program to convert Decimal to Binary, Octal and Hexadecimal with direct method.\n",
        "\n",
        "\n"
      ],
      "metadata": {
        "id": "1yljj9KMfb5t"
      }
    },
    {
      "cell_type": "code",
      "source": [
        "d=1999\n",
        "print(bin(d))\n",
        "print(oct(d))\n",
        "print(hex(d))"
      ],
      "metadata": {
        "id": "NjgVko_sfnuV",
        "outputId": "8e9001df-448c-43ca-d820-1d32a41e3846",
        "colab": {
          "base_uri": "https://localhost:8080/"
        }
      },
      "execution_count": 15,
      "outputs": [
        {
          "output_type": "stream",
          "name": "stdout",
          "text": [
            "0b11111001111\n",
            "0o3717\n",
            "0x7cf\n"
          ]
        }
      ]
    },
    {
      "cell_type": "markdown",
      "source": [
        "7.Implement Arithmetic operators with examples."
      ],
      "metadata": {
        "id": "0hCUF5QPfwJk"
      }
    },
    {
      "cell_type": "code",
      "source": [
        "a=37\n",
        "b=62\n",
        "print(\"arithmetic\\n\")\n",
        "print(a+b)\n",
        "print(a/b)\n",
        "print(a//b)\n",
        "print(a%b)\n",
        "print(a**b)"
      ],
      "metadata": {
        "id": "f5wFu1tDf5U8",
        "outputId": "9985e9f1-2dd3-4ef7-b6ff-81d030e639ac",
        "colab": {
          "base_uri": "https://localhost:8080/"
        }
      },
      "execution_count": 16,
      "outputs": [
        {
          "output_type": "stream",
          "name": "stdout",
          "text": [
            "arithmetic\n",
            "\n",
            "99\n",
            "0.5967741935483871\n",
            "0\n",
            "37\n",
            "16924151024623061317103453164864394043537958418969369432817482078357454592183099846564553474068969\n"
          ]
        }
      ]
    },
    {
      "cell_type": "markdown",
      "source": [
        "8.Implement Assignment operators with examples"
      ],
      "metadata": {
        "id": "NgRUf2l-f-Bk"
      }
    },
    {
      "cell_type": "code",
      "source": [
        "a=9\n",
        "b=12\n",
        "c=32\n",
        "print(\"assignmet\\n\")\n",
        "c=a+b\n",
        "print(c)\n",
        "c+=a\n",
        "print(c)\n",
        "c-=a\n",
        "print(c)\n",
        "c*=a\n",
        "print(c)\n",
        "c/=a\n",
        "print(c)\n",
        "c%=a\n",
        "print(c)\n",
        "c**=a\n",
        "print(c)"
      ],
      "metadata": {
        "id": "6knoMqKXgLeN",
        "outputId": "a1543863-960d-452b-c981-482e4a0d3a39",
        "colab": {
          "base_uri": "https://localhost:8080/"
        }
      },
      "execution_count": 17,
      "outputs": [
        {
          "output_type": "stream",
          "name": "stdout",
          "text": [
            "assignmet\n",
            "\n",
            "21\n",
            "30\n",
            "21\n",
            "189\n",
            "21.0\n",
            "3.0\n",
            "19683.0\n"
          ]
        }
      ]
    },
    {
      "cell_type": "markdown",
      "source": [
        "9.Implement Comparison operators with examples"
      ],
      "metadata": {
        "id": "Za9AjADkgOcd"
      }
    },
    {
      "cell_type": "code",
      "source": [
        "# comparision operators\n",
        "print(\"comparision\\n\")\n",
        "a=120\n",
        "b=16\n",
        "print(a==b)\n",
        "print(a!=b)\n",
        "print(a>b)\n",
        "print(a<b)\n",
        "print(a>=b)\n",
        "print(a<=b)"
      ],
      "metadata": {
        "id": "Lk7yYNcWgXIk",
        "outputId": "44bd8eca-a382-4170-e622-af4e0a43caac",
        "colab": {
          "base_uri": "https://localhost:8080/"
        }
      },
      "execution_count": 18,
      "outputs": [
        {
          "output_type": "stream",
          "name": "stdout",
          "text": [
            "comparision\n",
            "\n",
            "False\n",
            "True\n",
            "True\n",
            "False\n",
            "True\n",
            "False\n"
          ]
        }
      ]
    },
    {
      "cell_type": "markdown",
      "source": [
        "11.Implement Bitwise operators with examples"
      ],
      "metadata": {
        "id": "o2FQp47Aga4M"
      }
    },
    {
      "cell_type": "code",
      "source": [
        "#bitwise operators\n",
        "print(\"bitwise\\n\")\n",
        "a=23\n",
        "b=11\n",
        "print(a&b)\n",
        "print(a^b)\n",
        "print(a|b)\n",
        "print(~a)\n",
        "print(a>>2)\n",
        "print(a<<2)"
      ],
      "metadata": {
        "id": "g0Z4n_L1gnI-",
        "outputId": "20884890-b64b-4860-d0fc-c1215914bcde",
        "colab": {
          "base_uri": "https://localhost:8080/"
        }
      },
      "execution_count": 19,
      "outputs": [
        {
          "output_type": "stream",
          "name": "stdout",
          "text": [
            "bitwise\n",
            "\n",
            "3\n",
            "28\n",
            "31\n",
            "-24\n",
            "5\n",
            "92\n"
          ]
        }
      ]
    },
    {
      "cell_type": "markdown",
      "source": [
        "12.Implement Membership operators with examples"
      ],
      "metadata": {
        "id": "ImZyl80Bgobl"
      }
    },
    {
      "cell_type": "code",
      "source": [
        "print(\"membership\\n\")\n",
        "x=\"app\"\n",
        "y={1:'23',2:'45'}\n",
        "print('p'in x)\n",
        "print(1 in y)\n",
        "print('a'in y)"
      ],
      "metadata": {
        "id": "Tuo61ymtgxbN",
        "outputId": "c19bc5d0-ed20-4ac8-e415-f454dde29d9a",
        "colab": {
          "base_uri": "https://localhost:8080/"
        }
      },
      "execution_count": 21,
      "outputs": [
        {
          "output_type": "stream",
          "name": "stdout",
          "text": [
            "membership\n",
            "\n",
            "True\n",
            "True\n",
            "False\n"
          ]
        }
      ]
    },
    {
      "cell_type": "markdown",
      "source": [
        "13.Implement Identity operators with examples"
      ],
      "metadata": {
        "id": "eBd9snrkgzMT"
      }
    },
    {
      "cell_type": "code",
      "source": [
        "print(\"identity\\n\")\n",
        "x1=6\n",
        "y1=4\n",
        "x3=[1,2,6]\n",
        "y3=[1,4,3]\n",
        "print(x1 is not y1)"
      ],
      "metadata": {
        "id": "tmQad-inhAuk",
        "outputId": "39851510-ecab-4bda-947e-e4f481aa709a",
        "colab": {
          "base_uri": "https://localhost:8080/"
        }
      },
      "execution_count": 22,
      "outputs": [
        {
          "output_type": "stream",
          "name": "stdout",
          "text": [
            "identity\n",
            "\n",
            "True\n"
          ]
        }
      ]
    },
    {
      "cell_type": "markdown",
      "source": [
        "14.Demonstrate Negative indexing for List and apply slicing."
      ],
      "metadata": {
        "id": "hF6SudMzhCk8"
      }
    },
    {
      "cell_type": "code",
      "source": [
        "list_1 = [2,8,5,3,0,1]\n",
        "print(list_1[-6])\n",
        "print(list_1[-6:-2])"
      ],
      "metadata": {
        "id": "wR0eVhrahNct",
        "outputId": "658a262c-0439-4b85-bcde-600e89fda575",
        "colab": {
          "base_uri": "https://localhost:8080/"
        }
      },
      "execution_count": 23,
      "outputs": [
        {
          "output_type": "stream",
          "name": "stdout",
          "text": [
            "2\n",
            "[2, 8, 5, 3]\n"
          ]
        }
      ]
    },
    {
      "cell_type": "markdown",
      "source": [
        "15.Predict the output for the given code snippet and justify the result"
      ],
      "metadata": {
        "id": "cvQ9plc4hOfk"
      }
    },
    {
      "cell_type": "code",
      "source": [
        "print(' A series of characters designated as one object known as a string'[::-1][4::3])\n",
        "print(\"_ _ _ _ _\")\n",
        "print('Welcome to Python traing program'[3:10][::-1])"
      ],
      "metadata": {
        "id": "GncoNWqUh5lU",
        "outputId": "9279c785-e1db-4d75-94e1-11a6af205aae",
        "colab": {
          "base_uri": "https://localhost:8080/"
        }
      },
      "execution_count": 24,
      "outputs": [
        {
          "output_type": "stream",
          "name": "stdout",
          "text": [
            "taawkcbe  tgestrcoeeA\n",
            "_ _ _ _ _\n",
            "ot emoc\n"
          ]
        }
      ]
    },
    {
      "cell_type": "markdown",
      "source": [
        "16.Write a python code to get desired output"
      ],
      "metadata": {
        "id": "ZNOqbJEaiJqM"
      }
    },
    {
      "cell_type": "code",
      "source": [
        "s=\"was it a car or a cat I saw\"\n",
        "s=s.upper()\n",
        "s=s.replace(\" \",\" \")\n",
        "c=0\n",
        "res=''\n",
        "for i in range(0,len(s)):\n",
        "  if(c%3==0 and c!=0):\n",
        "    res=res+\" \"+s[i]+\" \"\n",
        "    c=0\n",
        "  else:\n",
        "      res=res+s[i]\n",
        "      c=c+1\n",
        "print(res)"
      ],
      "metadata": {
        "id": "KvYF6j-HiNfT",
        "outputId": "c2ce8fe8-ad41-4e54-c3c3-22a6d2469a39",
        "colab": {
          "base_uri": "https://localhost:8080/"
        }
      },
      "execution_count": 25,
      "outputs": [
        {
          "output_type": "stream",
          "name": "stdout",
          "text": [
            "WAS   IT  A  CA R  OR   A C A T I   SAW\n"
          ]
        }
      ]
    },
    {
      "cell_type": "markdown",
      "source": [
        ""
      ],
      "metadata": {
        "id": "YaVKUSoKiam0"
      }
    },
    {
      "cell_type": "code",
      "source": [
        "x=int(input())\n",
        "y=x*2\n",
        "\n",
        "\n",
        "res='z'*x\n",
        "y='o'*y\n",
        "res=res+y\n",
        "print(res)"
      ],
      "metadata": {
        "id": "Rfeay6QQijSU",
        "outputId": "8f41dc01-2c6c-40c2-954f-ae98f627d669",
        "colab": {
          "base_uri": "https://localhost:8080/"
        }
      },
      "execution_count": 26,
      "outputs": [
        {
          "output_type": "stream",
          "name": "stdout",
          "text": [
            "2\n",
            "zzoooo\n"
          ]
        }
      ]
    }
  ]
}