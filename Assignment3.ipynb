{
  "nbformat": 4,
  "nbformat_minor": 0,
  "metadata": {
    "colab": {
      "name": "Assignment3.ipynb",
      "provenance": [],
      "authorship_tag": "ABX9TyPjtDhwOgW99eOMnc5XKAyo",
      "include_colab_link": true
    },
    "kernelspec": {
      "name": "python3",
      "display_name": "Python 3"
    },
    "language_info": {
      "name": "python"
    }
  },
  "cells": [
    {
      "cell_type": "markdown",
      "metadata": {
        "id": "view-in-github",
        "colab_type": "text"
      },
      "source": [
        "<a href=\"https://colab.research.google.com/github/vyshnavinellore/2216129_AIML_BootCamp/blob/main/Assignment3.ipynb\" target=\"_parent\"><img src=\"https://colab.research.google.com/assets/colab-badge.svg\" alt=\"Open In Colab\"/></a>"
      ]
    },
    {
      "cell_type": "code",
      "execution_count": null,
      "metadata": {
        "colab": {
          "base_uri": "https://localhost:8080/"
        },
        "id": "5-BAJ7geaWQR",
        "outputId": "8434e0e0-bcd0-4102-930e-8bf537100dd7"
      },
      "outputs": [
        {
          "output_type": "stream",
          "name": "stdout",
          "text": [
            "Addtion of 2 numbers is 10\n",
            "Sub of 2 numbers is 5\n"
          ]
        }
      ],
      "source": [
        "#class & object\n",
        "class CO:\n",
        "  def subn(self,a,b):\n",
        "    return a-b\n",
        "  def addn(self,a,b):\n",
        "    return a+b\n",
        "obj=CO()\n",
        "print(\"Addtion of 2 numbers is\",obj.addn(5,5))\n",
        "print(\"Sub of 2 numbers is\",obj.subn(10,5))\n"
      ]
    },
    {
      "cell_type": "code",
      "source": [
        "class C1:\n",
        "  '''description'''\n",
        "  class_var=\"demonstrates class creation\"\n",
        "  def cm(self):\n",
        "    return\"method invocation\"\n",
        "  def __str__(self):\n",
        "    return \"returns string to object\"\n",
        "obj1=C1()\n",
        "print(obj1.class_var)\n",
        "print(obj1.cm())\n",
        "print(obj1)"
      ],
      "metadata": {
        "colab": {
          "base_uri": "https://localhost:8080/"
        },
        "id": "_zHU0SGPbGme",
        "outputId": "c6d1d434-d395-431b-fa2d-b8a9a2ed31c1"
      },
      "execution_count": null,
      "outputs": [
        {
          "output_type": "stream",
          "name": "stdout",
          "text": [
            "demonstrates class creation\n",
            "method invocation\n",
            "returns string to object\n"
          ]
        }
      ]
    },
    {
      "cell_type": "code",
      "source": [
        "#inheritance\n",
        "#single\n",
        "class Animal:\n",
        "  def animal_sounds(self):\n",
        "    return \"makes sound\"\n",
        "class Cat(Animal):\n",
        "  def cat_sound(self):\n",
        "    return self.animal_sounds()+\"MEOW\"\n",
        "  def __str__(self):\n",
        "    return \"CAT\"\n",
        "catobj=Cat()\n",
        "print(catobj,catobj.cat_sound())"
      ],
      "metadata": {
        "colab": {
          "base_uri": "https://localhost:8080/"
        },
        "id": "YyoiJNVLb2KB",
        "outputId": "9b96883d-42e7-45b7-cd7f-5c2d59e69c33"
      },
      "execution_count": null,
      "outputs": [
        {
          "output_type": "stream",
          "name": "stdout",
          "text": [
            "CAT makes soundMEOW\n"
          ]
        }
      ]
    },
    {
      "cell_type": "code",
      "source": [
        "#hierarchial\n",
        "class Animal:\n",
        "  def animal_sounds(self):\n",
        "    return \"makes sound\"\n",
        "class Cat(Animal):\n",
        "  def cat_sound(self):\n",
        "    return self.animal_sounds()+\" MEOW\"\n",
        "  def __str__(self):\n",
        "    return \"CAT\"\n",
        "  \n",
        "class Dog(Animal):\n",
        "  def dog_sound(self):\n",
        "    return self.animal_sounds()+\" BOW\"\n",
        "  def __str__(self):\n",
        "    return \"DOG\"\n",
        "catobj=Cat()\n",
        "print(catobj,catobj.cat_sound())\n",
        "#hierarchial\n",
        "class Animal:\n",
        "  def animal_sounds(self):\n",
        "    return \"makes sound\"\n",
        "class Cat(Animal):\n",
        "  def cat_sound(self):\n",
        "    return self.animal_sounds()+\" MEOW\"\n",
        "  def __str__(self):\n",
        "    return \"CAT\"\n",
        "  \n",
        "class Dog(Animal):\n",
        "  def dog_sound(self):\n",
        "    return self.animal_sounds()+\" BOW\"\n",
        "  def __str__(self):\n",
        "    return \"DOG\"\n",
        "catobj=Cat()\n",
        "print(catobj,catobj.cat_sound())\n"
      ],
      "metadata": {
        "colab": {
          "base_uri": "https://localhost:8080/"
        },
        "id": "LSX144r9cA1p",
        "outputId": "d4c4e477-7b43-4ef6-8142-fd7043b62cac"
      },
      "execution_count": null,
      "outputs": [
        {
          "output_type": "stream",
          "name": "stdout",
          "text": [
            "CAT makes sound MEOW\n",
            "CAT makes sound MEOW\n"
          ]
        }
      ]
    },
    {
      "cell_type": "code",
      "source": [
        "#multilevel inheritance\n",
        "class Animal:\n",
        "  def animal_sounds(self):\n",
        "    return \"makes sound\"\n",
        "class Cat(Animal):\n",
        "  def cat_sound(self):\n",
        "    return self.animal_sounds()+\" MEOW\"\n",
        "class CatColor(Cat):\n",
        "  def __str__(self):\n",
        "    return \"CAT\"\n",
        "  def color(self):\n",
        "    return \"color is black\"\n",
        "catcolor=CatColor()\n",
        "print(catcolor,catcolor.cat_sound())\n",
        "print(catcolor,catcolor.color())"
      ],
      "metadata": {
        "colab": {
          "base_uri": "https://localhost:8080/"
        },
        "id": "TZko1LsBcbvA",
        "outputId": "f06ffe25-ffb5-4e22-b38a-500ff749960d"
      },
      "execution_count": null,
      "outputs": [
        {
          "output_type": "stream",
          "name": "stdout",
          "text": [
            "CAT makes sound MEOW\n",
            "CAT color is black\n"
          ]
        }
      ]
    },
    {
      "cell_type": "code",
      "source": [
        "#exceptions\n",
        "#name error\n",
        "print(x)\n"
      ],
      "metadata": {
        "id": "QUQ5o0c0chBJ"
      },
      "execution_count": null,
      "outputs": []
    },
    {
      "cell_type": "code",
      "source": [
        "#name\n",
        "try:\n",
        "  print(x)\n",
        "except NameError as ne:\n",
        "  print(\"exception occurred\",ne)\n",
        "print(\"excecuted\")\n"
      ],
      "metadata": {
        "colab": {
          "base_uri": "https://localhost:8080/"
        },
        "id": "JGw2N5isco6p",
        "outputId": "47635e6b-bdd0-45bd-ce5e-98655796e75e"
      },
      "execution_count": null,
      "outputs": [
        {
          "output_type": "stream",
          "name": "stdout",
          "text": [
            "exception occurred name 'x' is not defined\n",
            "excecuted\n"
          ]
        }
      ]
    },
    {
      "cell_type": "code",
      "source": [
        "#value erroe\n",
        "a='25 xyz'\n",
        "try:\n",
        "  print(int(a))\n",
        "except ValueError as e:\n",
        "  print(e)"
      ],
      "metadata": {
        "colab": {
          "base_uri": "https://localhost:8080/"
        },
        "id": "A_3aKYssczoR",
        "outputId": "d374df6d-4e8c-441b-db98-9efc0595aecc"
      },
      "execution_count": null,
      "outputs": [
        {
          "output_type": "stream",
          "name": "stdout",
          "text": [
            "invalid literal for int() with base 10: '25 xyz'\n"
          ]
        }
      ]
    },
    {
      "cell_type": "code",
      "source": [
        "#exception handling\n",
        "#2003\n",
        "class INVALIDSTUDENTID(Exception):\n",
        "  pass\n",
        "stid=input(\"enter student id\")\n",
        "try:\n",
        "  if stid[:4]!=\"2003\":\n",
        "    raise INVALIDSTUDENTID\n",
        "except INVALIDSTUDENTID:\n",
        "  print(\"error raised due to invalid details\")\n",
        "print(\"details verified\")\n"
      ],
      "metadata": {
        "colab": {
          "base_uri": "https://localhost:8080/"
        },
        "id": "Jpml_kzec5Po",
        "outputId": "efee7afc-841a-48ef-af9c-9fd45a034802"
      },
      "execution_count": null,
      "outputs": [
        {
          "output_type": "stream",
          "name": "stdout",
          "text": [
            "enter student id2003\n",
            "details verified\n"
          ]
        }
      ]
    },
    {
      "cell_type": "code",
      "source": [
        "class INVALIDSTUDENTID(Exception):\n",
        "  def __str__(self):\n",
        "    return \"ERROR RAISED\"\n",
        "stid=input(\"enter student id\")\n",
        "try:\n",
        "  if stid[:4]!=\"2003\":\n",
        "    raise INVALIDSTUDENTID \n",
        "except INVALIDSTUDENTID as invalid:\n",
        "  print(invalid)\n",
        "print(\"details verified\")"
      ],
      "metadata": {
        "colab": {
          "base_uri": "https://localhost:8080/"
        },
        "id": "cd45RobidFWy",
        "outputId": "3b7563fc-e125-4780-cd76-92307e5b5157"
      },
      "execution_count": null,
      "outputs": [
        {
          "output_type": "stream",
          "name": "stdout",
          "text": [
            "enter student id2003\n",
            "details verified\n"
          ]
        }
      ]
    },
    {
      "cell_type": "code",
      "source": [
        "#implement exception handling for age of voter\n",
        "f=open(\"sample.txt\",\"x\")\n",
        "f=open(\"sample.txt\",\"w\")\n",
        "f.write(\"WELCOME\")\n",
        "f.close()\n",
        "f=open(\"sample.txt\",\"r\")\n",
        "print(f.read())\n",
        "f.close()\n"
      ],
      "metadata": {
        "id": "E31a46tRi9Jj"
      },
      "execution_count": null,
      "outputs": []
    },
    {
      "cell_type": "code",
      "source": [
        "\n",
        "\n",
        "#append\n",
        "#reverse palindrome\n",
        "#print even elements\n",
        "#print odd elements\n",
        "#print element alterante capital and small \n",
        "#to check a number is armstrong\n",
        "#to check if letter starts with particular alphabet in file\n",
        "#create a dictionary and save it as a file, and then convert the\n",
        "\n",
        "#pickle\n",
        "#pickling\n",
        "\n",
        "import pickle\n",
        "mylist=['a','b','c','d']\n",
        "f3=open(\"datafile1.txt\",\"wb\")\n",
        "pickle.dump(mylist,f3)\n",
        "f3.close()\n",
        "\n",
        "#unpickling\n",
        "import pickle\n",
        "pickle_off=open(\"datafile1.txt\",\"rb\")\n",
        "e=pickle.load(pickle_off)\n",
        "print(e)\n",
        "\n",
        "#pickling\n",
        "import pickle\n",
        "mylist=['a','b','c','d']\n",
        "with open(\"datafile2.txt\",\"wb\") as f4:\n",
        "  pickle.dump(mylist,f4)\n",
        "\n",
        "#unpickling\n",
        "import pickle\n",
        "pickle_off=open(\"datafile2.txt\",\"rb\")\n",
        "e=pickle.load(pickle_off)\n",
        "print(e)\n",
        "\n",
        "#regular expressions\n",
        "import re\n",
        "pattern=r\"COOKIE\"\n",
        "sequence=(\"Cookie\")\n",
        "if re.match(pattern,sequence):\n",
        "  print(\"MATCHING\")\n",
        "else:\n",
        "  print(\"NOT A MATCH\")\n",
        "\n",
        "import re\n",
        "ph_no=input(\"enter mobile number\")\n",
        "print(re.search(r'\\d{10}',ph_no).group())\n",
        "mail=input(\"enter a mail\")\n",
        "str1=r'[A-Za-z0-9._-]+@[A-Za-z0-9.-]+[A-Z|a-z]{2,}'\n",
        "print(re.search(str1,mail).group())\n"
      ],
      "metadata": {
        "colab": {
          "base_uri": "https://localhost:8080/"
        },
        "id": "G08UIZRbjNFH",
        "outputId": "92bc67f4-0d26-4978-ff33-f3c9d814b7f6"
      },
      "execution_count": null,
      "outputs": [
        {
          "output_type": "stream",
          "name": "stdout",
          "text": [
            "['a', 'b', 'c', 'd']\n",
            "['a', 'b', 'c', 'd']\n",
            "NOT A MATCH\n",
            "enter mobile number7892672109\n",
            "7892672109\n",
            "enter a mailmailgradstellarpvtltd@onmicrosoft.in\n",
            "mailgradstellarpvtltd@onmicrosoft.in\n"
          ]
        }
      ]
    }
  ]
}