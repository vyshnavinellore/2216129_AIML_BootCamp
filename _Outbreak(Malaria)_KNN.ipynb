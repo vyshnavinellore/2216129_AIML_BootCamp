{
  "nbformat": 4,
  "nbformat_minor": 0,
  "metadata": {
    "colab": {
      "name": ".Outbreak(Malaria)-KNN.ipynb",
      "provenance": [],
      "authorship_tag": "ABX9TyPTr/LL7GcwgrZaKasQ5JHe",
      "include_colab_link": true
    },
    "kernelspec": {
      "name": "python3",
      "display_name": "Python 3"
    },
    "language_info": {
      "name": "python"
    }
  },
  "cells": [
    {
      "cell_type": "markdown",
      "metadata": {
        "id": "view-in-github",
        "colab_type": "text"
      },
      "source": [
        "<a href=\"https://colab.research.google.com/github/vyshnavinellore/2216129_AIML_BootCamp/blob/main/_Outbreak(Malaria)_KNN.ipynb\" target=\"_parent\"><img src=\"https://colab.research.google.com/assets/colab-badge.svg\" alt=\"Open In Colab\"/></a>"
      ]
    },
    {
      "cell_type": "code",
      "execution_count": 1,
      "metadata": {
        "colab": {
          "base_uri": "https://localhost:8080/"
        },
        "id": "vythEsUV9YID",
        "outputId": "2bbfe914-3748-4c90-850a-687712135eb1"
      },
      "outputs": [
        {
          "output_type": "stream",
          "name": "stdout",
          "text": [
            "    maxTemp  minTemp  avgHumidity  Rainfall  Positive   pf Outbreak\n",
            "0      29.0     18.0        49.74      0.00      2156  112       No\n",
            "1      34.0     23.0        83.27     15.22     10717  677      Yes\n",
            "2      40.0     23.0        50.74      0.00      1257  127       No\n",
            "3       NaN     24.0        84.57     11.15      9693  482       No\n",
            "4      34.0     24.0        59.16      9.06      4198  211       No\n",
            "5      34.0     27.0        73.23      0.00     11808  712      Yes\n",
            "6      31.0     24.0        88.77     41.40     10881  648      Yes\n",
            "7      33.0     24.0        77.94     23.88      8830  459      Yes\n",
            "8      31.0     24.0        84.57     11.15      9693  482       No\n",
            "9      36.0     24.0        53.40      2.12      9310  549       No\n",
            "10     32.0     23.0        57.50      0.00     13154  838      Yes\n",
            "11     34.0     18.0        59.40      0.00      2197  136       No\n",
            "12     42.0     24.0        49.43      2.19      3362  213       No\n",
            "13     45.0     32.0        34.74      0.38       416   26       No\n",
            "14     43.0     28.0        69.07      4.65      7514  410       No\n",
            "15     33.0     23.0        80.97      6.92     10990  390      Yes\n",
            "16     32.0     24.0        87.32     11.92      6536  338       No\n",
            "17     40.0     27.0        63.97      0.00     11169  776      Yes\n",
            "18      NaN      NaN        84.57     11.15      9693  482       No\n",
            "19     39.0     25.0        47.52      0.00      8131  312       No\n",
            "20     36.0     26.0        72.78      3.54      5138  213       No\n",
            "21     31.0     23.0        73.35      4.97     10659  612      Yes\n",
            "22     30.0     23.0        86.81      7.21      9041  418       No\n",
            "23     30.0     22.0        78.80      3.12     11265  404      Yes\n",
            "24     33.0     22.0        73.71      1.75      9233  212       No\n",
            "25      1.0     24.0        84.57     11.15      9693  482      NaN\n"
          ]
        }
      ],
      "source": [
        "import pandas as pd\n",
        "df=pd.read_csv('/content/sample_data/outbreak_detect.csv')\n",
        "print(df)"
      ]
    },
    {
      "cell_type": "code",
      "source": [
        "df.shape"
      ],
      "metadata": {
        "colab": {
          "base_uri": "https://localhost:8080/"
        },
        "id": "60_zKnHr-doo",
        "outputId": "903031ac-cbec-4674-a167-c5fce794c888"
      },
      "execution_count": 2,
      "outputs": [
        {
          "output_type": "execute_result",
          "data": {
            "text/plain": [
              "(26, 7)"
            ]
          },
          "metadata": {},
          "execution_count": 2
        }
      ]
    },
    {
      "cell_type": "code",
      "source": [
        "df.info()"
      ],
      "metadata": {
        "colab": {
          "base_uri": "https://localhost:8080/"
        },
        "id": "ScfHeuyT-iTt",
        "outputId": "ef78b85e-57f3-4600-f910-6901663c6c1c"
      },
      "execution_count": 3,
      "outputs": [
        {
          "output_type": "stream",
          "name": "stdout",
          "text": [
            "<class 'pandas.core.frame.DataFrame'>\n",
            "RangeIndex: 26 entries, 0 to 25\n",
            "Data columns (total 7 columns):\n",
            " #   Column       Non-Null Count  Dtype  \n",
            "---  ------       --------------  -----  \n",
            " 0   maxTemp      24 non-null     float64\n",
            " 1   minTemp      25 non-null     float64\n",
            " 2   avgHumidity  26 non-null     float64\n",
            " 3   Rainfall     26 non-null     float64\n",
            " 4   Positive     26 non-null     int64  \n",
            " 5   pf           26 non-null     int64  \n",
            " 6   Outbreak     25 non-null     object \n",
            "dtypes: float64(4), int64(2), object(1)\n",
            "memory usage: 1.5+ KB\n"
          ]
        }
      ]
    },
    {
      "cell_type": "code",
      "source": [
        "df.dropna(inplace=True)"
      ],
      "metadata": {
        "id": "ZiW3KGiS-nb9"
      },
      "execution_count": 4,
      "outputs": []
    },
    {
      "cell_type": "code",
      "source": [
        "df.isnull"
      ],
      "metadata": {
        "colab": {
          "base_uri": "https://localhost:8080/"
        },
        "id": "FpDJzsPn-vAi",
        "outputId": "f04fd8c0-ff4d-4a21-ba08-deed48ebfb28"
      },
      "execution_count": 5,
      "outputs": [
        {
          "output_type": "execute_result",
          "data": {
            "text/plain": [
              "<bound method DataFrame.isnull of     maxTemp  minTemp  avgHumidity  Rainfall  Positive   pf Outbreak\n",
              "0      29.0     18.0        49.74      0.00      2156  112       No\n",
              "1      34.0     23.0        83.27     15.22     10717  677      Yes\n",
              "2      40.0     23.0        50.74      0.00      1257  127       No\n",
              "4      34.0     24.0        59.16      9.06      4198  211       No\n",
              "5      34.0     27.0        73.23      0.00     11808  712      Yes\n",
              "6      31.0     24.0        88.77     41.40     10881  648      Yes\n",
              "7      33.0     24.0        77.94     23.88      8830  459      Yes\n",
              "8      31.0     24.0        84.57     11.15      9693  482       No\n",
              "9      36.0     24.0        53.40      2.12      9310  549       No\n",
              "10     32.0     23.0        57.50      0.00     13154  838      Yes\n",
              "11     34.0     18.0        59.40      0.00      2197  136       No\n",
              "12     42.0     24.0        49.43      2.19      3362  213       No\n",
              "13     45.0     32.0        34.74      0.38       416   26       No\n",
              "14     43.0     28.0        69.07      4.65      7514  410       No\n",
              "15     33.0     23.0        80.97      6.92     10990  390      Yes\n",
              "16     32.0     24.0        87.32     11.92      6536  338       No\n",
              "17     40.0     27.0        63.97      0.00     11169  776      Yes\n",
              "19     39.0     25.0        47.52      0.00      8131  312       No\n",
              "20     36.0     26.0        72.78      3.54      5138  213       No\n",
              "21     31.0     23.0        73.35      4.97     10659  612      Yes\n",
              "22     30.0     23.0        86.81      7.21      9041  418       No\n",
              "23     30.0     22.0        78.80      3.12     11265  404      Yes\n",
              "24     33.0     22.0        73.71      1.75      9233  212       No>"
            ]
          },
          "metadata": {},
          "execution_count": 5
        }
      ]
    },
    {
      "cell_type": "code",
      "source": [
        "df.shape"
      ],
      "metadata": {
        "colab": {
          "base_uri": "https://localhost:8080/"
        },
        "id": "aPHALjR3-0k8",
        "outputId": "a2b7e872-587f-4506-9423-0ad563595096"
      },
      "execution_count": 6,
      "outputs": [
        {
          "output_type": "execute_result",
          "data": {
            "text/plain": [
              "(23, 7)"
            ]
          },
          "metadata": {},
          "execution_count": 6
        }
      ]
    },
    {
      "cell_type": "code",
      "source": [
        "import seaborn as sns\n",
        "import numpy as np"
      ],
      "metadata": {
        "id": "CnY6HgLu-5OX"
      },
      "execution_count": 7,
      "outputs": []
    },
    {
      "cell_type": "code",
      "source": [
        "#data processing\n",
        "from sklearn import preprocessing  \n",
        "#labelencodingg\n",
        "LE=preprocessing.LabelEncoder()\n",
        "#fitting it to our dataset\n",
        "df.Outbreak=LE.fit_transform(df.Outbreak)\n",
        "print(df.Outbreak)"
      ],
      "metadata": {
        "colab": {
          "base_uri": "https://localhost:8080/"
        },
        "id": "CHUynXsn_HPn",
        "outputId": "09a5a4f1-6c2c-4a43-baa6-a0f8a3d78d68"
      },
      "execution_count": 8,
      "outputs": [
        {
          "output_type": "stream",
          "name": "stdout",
          "text": [
            "0     0\n",
            "1     1\n",
            "2     0\n",
            "4     0\n",
            "5     1\n",
            "6     1\n",
            "7     1\n",
            "8     0\n",
            "9     0\n",
            "10    1\n",
            "11    0\n",
            "12    0\n",
            "13    0\n",
            "14    0\n",
            "15    1\n",
            "16    0\n",
            "17    1\n",
            "19    0\n",
            "20    0\n",
            "21    1\n",
            "22    0\n",
            "23    1\n",
            "24    0\n",
            "Name: Outbreak, dtype: int64\n"
          ]
        }
      ]
    },
    {
      "cell_type": "code",
      "source": [
        "#df=df.drop('maxTemp',axis=1)\n",
        "#df=df.drop('minTemp',axis=1)"
      ],
      "metadata": {
        "id": "QCAS-2-S_KUw"
      },
      "execution_count": 9,
      "outputs": []
    },
    {
      "cell_type": "code",
      "source": [
        "df.shape"
      ],
      "metadata": {
        "colab": {
          "base_uri": "https://localhost:8080/"
        },
        "id": "YkvTuuGg_N0w",
        "outputId": "a2727ec5-267c-4d07-e9ac-935c6e037dd3"
      },
      "execution_count": 10,
      "outputs": [
        {
          "output_type": "execute_result",
          "data": {
            "text/plain": [
              "(23, 7)"
            ]
          },
          "metadata": {},
          "execution_count": 10
        }
      ]
    },
    {
      "cell_type": "code",
      "source": [
        "x=np.array(df[['avgHumidity','Rainfall','Positive','pf']])\n",
        "y=np.array(df[['Outbreak']])\n",
        "x"
      ],
      "metadata": {
        "colab": {
          "base_uri": "https://localhost:8080/"
        },
        "id": "RlOHe8CW_SDo",
        "outputId": "a492ae93-62ff-44cd-eb7b-a3f84ed1c849"
      },
      "execution_count": 11,
      "outputs": [
        {
          "output_type": "execute_result",
          "data": {
            "text/plain": [
              "array([[4.9740e+01, 0.0000e+00, 2.1560e+03, 1.1200e+02],\n",
              "       [8.3270e+01, 1.5220e+01, 1.0717e+04, 6.7700e+02],\n",
              "       [5.0740e+01, 0.0000e+00, 1.2570e+03, 1.2700e+02],\n",
              "       [5.9160e+01, 9.0600e+00, 4.1980e+03, 2.1100e+02],\n",
              "       [7.3230e+01, 0.0000e+00, 1.1808e+04, 7.1200e+02],\n",
              "       [8.8770e+01, 4.1400e+01, 1.0881e+04, 6.4800e+02],\n",
              "       [7.7940e+01, 2.3880e+01, 8.8300e+03, 4.5900e+02],\n",
              "       [8.4570e+01, 1.1150e+01, 9.6930e+03, 4.8200e+02],\n",
              "       [5.3400e+01, 2.1200e+00, 9.3100e+03, 5.4900e+02],\n",
              "       [5.7500e+01, 0.0000e+00, 1.3154e+04, 8.3800e+02],\n",
              "       [5.9400e+01, 0.0000e+00, 2.1970e+03, 1.3600e+02],\n",
              "       [4.9430e+01, 2.1900e+00, 3.3620e+03, 2.1300e+02],\n",
              "       [3.4740e+01, 3.8000e-01, 4.1600e+02, 2.6000e+01],\n",
              "       [6.9070e+01, 4.6500e+00, 7.5140e+03, 4.1000e+02],\n",
              "       [8.0970e+01, 6.9200e+00, 1.0990e+04, 3.9000e+02],\n",
              "       [8.7320e+01, 1.1920e+01, 6.5360e+03, 3.3800e+02],\n",
              "       [6.3970e+01, 0.0000e+00, 1.1169e+04, 7.7600e+02],\n",
              "       [4.7520e+01, 0.0000e+00, 8.1310e+03, 3.1200e+02],\n",
              "       [7.2780e+01, 3.5400e+00, 5.1380e+03, 2.1300e+02],\n",
              "       [7.3350e+01, 4.9700e+00, 1.0659e+04, 6.1200e+02],\n",
              "       [8.6810e+01, 7.2100e+00, 9.0410e+03, 4.1800e+02],\n",
              "       [7.8800e+01, 3.1200e+00, 1.1265e+04, 4.0400e+02],\n",
              "       [7.3710e+01, 1.7500e+00, 9.2330e+03, 2.1200e+02]])"
            ]
          },
          "metadata": {},
          "execution_count": 11
        }
      ]
    },
    {
      "cell_type": "code",
      "source": [
        "y\n"
      ],
      "metadata": {
        "colab": {
          "base_uri": "https://localhost:8080/"
        },
        "id": "l88LHU1g_Vs2",
        "outputId": "e9f253cf-a40d-451a-d8aa-5f571f80b798"
      },
      "execution_count": 12,
      "outputs": [
        {
          "output_type": "execute_result",
          "data": {
            "text/plain": [
              "array([[0],\n",
              "       [1],\n",
              "       [0],\n",
              "       [0],\n",
              "       [1],\n",
              "       [1],\n",
              "       [1],\n",
              "       [0],\n",
              "       [0],\n",
              "       [1],\n",
              "       [0],\n",
              "       [0],\n",
              "       [0],\n",
              "       [0],\n",
              "       [1],\n",
              "       [0],\n",
              "       [1],\n",
              "       [0],\n",
              "       [0],\n",
              "       [1],\n",
              "       [0],\n",
              "       [1],\n",
              "       [0]])"
            ]
          },
          "metadata": {},
          "execution_count": 12
        }
      ]
    },
    {
      "cell_type": "code",
      "source": [
        "import matplotlib.pyplot as plt\n"
      ],
      "metadata": {
        "id": "yGcR7ur8_X3T"
      },
      "execution_count": 13,
      "outputs": []
    },
    {
      "cell_type": "code",
      "source": [
        "import seaborn as sns#customizing graph\n",
        "def heatmap(df):\n",
        "  plt.figure(figsize=(6,4))\n",
        "  sns.heatmap(df.isnull(),yticklabels=False,cbar=False,cmap=\"viridis\")\n",
        "  plt.tight_layout()\n",
        "  return plt.show()\n",
        "heatmap(df)\n"
      ],
      "metadata": {
        "colab": {
          "base_uri": "https://localhost:8080/",
          "height": 297
        },
        "id": "B6vh3M-b_eYF",
        "outputId": "475d18a1-1ed1-407f-8a99-d0223e3c03c7"
      },
      "execution_count": 14,
      "outputs": [
        {
          "output_type": "display_data",
          "data": {
            "text/plain": [
              "<Figure size 432x288 with 1 Axes>"
            ],
            "image/png": "[encoded data removed]"
          },
          "metadata": {
            "needs_background": "light"
          }
        }
      ]
    },
    {
      "cell_type": "code",
      "source": [
        "from sklearn.preprocessing import StandardScaler\n",
        "sc = StandardScaler()\n",
        "x = sc.fit_transform(x)\n",
        "#x_test = sc.transform(x)"
      ],
      "metadata": {
        "id": "tDu2yFoe_hRA"
      },
      "execution_count": 15,
      "outputs": []
    },
    {
      "cell_type": "code",
      "source": [
        "#splitting\n",
        "from sklearn.model_selection import train_test_split\n",
        "x_train,x_test,y_train,y_test=train_test_split(x,y,test_size=0.2,random_state=0)"
      ],
      "metadata": {
        "id": "MYhrdkJI_m40"
      },
      "execution_count": 16,
      "outputs": []
    },
    {
      "cell_type": "code",
      "source": [
        "x_train"
      ],
      "metadata": {
        "colab": {
          "base_uri": "https://localhost:8080/"
        },
        "id": "Zrm_EKO0_uVn",
        "outputId": "bc936280-a0df-40eb-ecd1-a46020223597"
      },
      "execution_count": 17,
      "outputs": [
        {
          "output_type": "execute_result",
          "data": {
            "text/plain": [
              "array([[ 1.04281737,  0.91841276,  0.80622383,  1.2157294 ],\n",
              "       [ 0.09416784, -0.19473574, -0.05660526,  0.02992981],\n",
              "       [ 0.4041491 , -0.50014072,  0.40646162, -0.8494272 ],\n",
              "       [-0.24654431, -0.68443683,  0.92798429,  1.6554079 ],\n",
              "       [-0.95268695, -0.46117526,  0.427204  ,  0.64725619],\n",
              "       [ 0.68673977,  1.83041522,  0.29790085,  0.24754846],\n",
              "       [-1.34550803, -0.68443683,  0.10960315, -0.4053075 ],\n",
              "       [ 0.37208207, -0.68443683,  1.1001191 ,  1.37117129],\n",
              "       [-1.13039172, -0.68443683, -1.7421256 , -1.22692894],\n",
              "       [ 1.41025205,  3.67548256,  0.85040241,  1.08693469],\n",
              "       [ 0.34201923, -0.31163213, -0.69665582, -0.844986  ],\n",
              "       [-0.6787811 , -0.68443683,  1.46270666,  1.93076211],\n",
              "       [ 1.12966557,  0.48979267,  0.53037713,  0.34969599],\n",
              "       [ 0.38009883, -0.16103588,  0.7905997 ,  0.9270516 ],\n",
              "       [-0.56788264,  0.26969046, -0.94987447, -0.85386839],\n",
              "       [-1.19719803, -0.68443683, -1.49995159, -1.2935469 ],\n",
              "       [ 1.31338291,  0.57088295, -0.32006041, -0.28983638],\n",
              "       [-2.1992926 , -0.64441825, -1.96867548, -1.67548984]])"
            ]
          },
          "metadata": {},
          "execution_count": 17
        }
      ]
    },
    {
      "cell_type": "code",
      "source": [
        "y_train"
      ],
      "metadata": {
        "colab": {
          "base_uri": "https://localhost:8080/"
        },
        "id": "TscTfBhy_x0j",
        "outputId": "1e09ca86-58d1-4107-94ac-dc76198167df"
      },
      "execution_count": 18,
      "outputs": [
        {
          "output_type": "execute_result",
          "data": {
            "text/plain": [
              "array([[1],\n",
              "       [0],\n",
              "       [0],\n",
              "       [1],\n",
              "       [0],\n",
              "       [1],\n",
              "       [0],\n",
              "       [1],\n",
              "       [0],\n",
              "       [1],\n",
              "       [0],\n",
              "       [1],\n",
              "       [0],\n",
              "       [1],\n",
              "       [0],\n",
              "       [0],\n",
              "       [0],\n",
              "       [0]])"
            ]
          },
          "metadata": {},
          "execution_count": 18
        }
      ]
    },
    {
      "cell_type": "code",
      "source": [
        "x_test"
      ],
      "metadata": {
        "colab": {
          "base_uri": "https://localhost:8080/"
        },
        "id": "C2L-LJgE_0nv",
        "outputId": "f194e9b6-0027-48ab-8dcd-7ec2b0f54592"
      },
      "execution_count": 19,
      "outputs": [
        {
          "output_type": "execute_result",
          "data": {
            "text/plain": [
              "array([[-1.21790798, -0.45380341, -1.17507744, -0.844986  ],\n",
              "       [-0.55184912, -0.68443683, -1.48890695, -1.18695817],\n",
              "       [ 0.74419319, -0.3558632 ,  0.95384492,  0.00328262],\n",
              "       [ 0.88916287,  0.04432264,  0.87976499, -0.05889413],\n",
              "       [ 1.27931169,  0.07486314,  0.35474036,  0.06545938]])"
            ]
          },
          "metadata": {},
          "execution_count": 19
        }
      ]
    },
    {
      "cell_type": "code",
      "source": [
        "y_test"
      ],
      "metadata": {
        "colab": {
          "base_uri": "https://localhost:8080/"
        },
        "id": "6fDgwSAd_4FL",
        "outputId": "a9e19955-10fd-4886-9f84-e75b796b35a6"
      },
      "execution_count": 20,
      "outputs": [
        {
          "output_type": "execute_result",
          "data": {
            "text/plain": [
              "array([[0],\n",
              "       [0],\n",
              "       [1],\n",
              "       [1],\n",
              "       [0]])"
            ]
          },
          "metadata": {},
          "execution_count": 20
        }
      ]
    },
    {
      "cell_type": "code",
      "source": [
        "from sklearn.neighbors import KNeighborsClassifier\n",
        "model = KNeighborsClassifier()\n",
        "model.fit(x_train, y_train)"
      ],
      "metadata": {
        "colab": {
          "base_uri": "https://localhost:8080/"
        },
        "id": "TJjsLkIs_96j",
        "outputId": "1e860058-3bab-4945-e584-d88676f915ae"
      },
      "execution_count": 21,
      "outputs": [
        {
          "output_type": "stream",
          "name": "stderr",
          "text": [
            "/usr/local/lib/python3.7/dist-packages/sklearn/neighbors/_classification.py:198: DataConversionWarning: A column-vector y was passed when a 1d array was expected. Please change the shape of y to (n_samples,), for example using ravel().\n",
            "  return self._fit(X, y)\n"
          ]
        },
        {
          "output_type": "execute_result",
          "data": {
            "text/plain": [
              "KNeighborsClassifier()"
            ]
          },
          "metadata": {},
          "execution_count": 21
        }
      ]
    },
    {
      "cell_type": "code",
      "source": [
        "y_pred=model.predict(x_test)\n",
        "y_pred"
      ],
      "metadata": {
        "id": "2I4VcZsYABK9",
        "outputId": "8c29e548-74c3-4d9b-e40b-63795ab05805",
        "colab": {
          "base_uri": "https://localhost:8080/"
        }
      },
      "execution_count": 22,
      "outputs": [
        {
          "output_type": "execute_result",
          "data": {
            "text/plain": [
              "array([0, 0, 0, 0, 0])"
            ]
          },
          "metadata": {},
          "execution_count": 22
        }
      ]
    },
    {
      "cell_type": "code",
      "source": [
        "print(\"predicted value for training data:\",model.score(x_train,y_train))\n",
        "print(\"predicted value for testing data:\",model.score(x_test,y_test))"
      ],
      "metadata": {
        "id": "QOlaYaleADUF",
        "outputId": "942e39bb-9376-40b0-da41-02252f94d3e2",
        "colab": {
          "base_uri": "https://localhost:8080/"
        }
      },
      "execution_count": 23,
      "outputs": [
        {
          "output_type": "stream",
          "name": "stdout",
          "text": [
            "predicted value for training data: 0.9444444444444444\n",
            "predicted value for testing data: 0.6\n"
          ]
        }
      ]
    },
    {
      "cell_type": "code",
      "source": [
        "accuracy=model.score(x,y)*100\n",
        "print(accuracy)"
      ],
      "metadata": {
        "id": "5fa3tI0QAGtl",
        "colab": {
          "base_uri": "https://localhost:8080/"
        },
        "outputId": "0e29500e-b9fa-4932-985d-57076429b38e"
      },
      "execution_count": 24,
      "outputs": [
        {
          "output_type": "stream",
          "name": "stdout",
          "text": [
            "86.95652173913044\n"
          ]
        }
      ]
    },
    {
      "cell_type": "code",
      "source": [
        ""
      ],
      "metadata": {
        "id": "O3_PaLKiaNBt"
      },
      "execution_count": null,
      "outputs": []
    }
  ]
}